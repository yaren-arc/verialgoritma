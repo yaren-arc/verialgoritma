{
  "nbformat": 4,
  "nbformat_minor": 0,
  "metadata": {
    "colab": {
      "provenance": []
    },
    "kernelspec": {
      "name": "python3",
      "display_name": "Python 3"
    },
    "language_info": {
      "name": "python"
    }
  },
  "cells": [
    {
      "cell_type": "code",
      "execution_count": 1,
      "metadata": {
        "id": "_nu6tu3Qrtj6"
      },
      "outputs": [],
      "source": [
        "# geçerli değişken tanımlaması\n",
        "degısken_1 = 10\n",
        "degısken_2 = 20\n",
        "_degısken_3 = 30\n"
      ]
    },
    {
      "cell_type": "code",
      "source": [
        "# geçersiz değişken tanımlaması\n",
        "1degısken= 40\n",
        "degısken-4=50\n"
      ],
      "metadata": {
        "colab": {
          "base_uri": "https://localhost:8080/",
          "height": 106
        },
        "id": "PIQMM3mhwM9N",
        "outputId": "5b771e35-6c80-445f-fdf8-1f49dfc5195a"
      },
      "execution_count": 2,
      "outputs": [
        {
          "output_type": "error",
          "ename": "SyntaxError",
          "evalue": "invalid decimal literal (<ipython-input-2-84b25d39fea6>, line 2)",
          "traceback": [
            "\u001b[0;36m  File \u001b[0;32m\"<ipython-input-2-84b25d39fea6>\"\u001b[0;36m, line \u001b[0;32m2\u001b[0m\n\u001b[0;31m    1degısken= 40\u001b[0m\n\u001b[0m    ^\u001b[0m\n\u001b[0;31mSyntaxError\u001b[0m\u001b[0;31m:\u001b[0m invalid decimal literal\n"
          ]
        }
      ]
    },
    {
      "cell_type": "code",
      "source": [
        "x = 5\n",
        "y = \"merhaba dünya\"\n",
        "print(x)\n",
        "print(y)"
      ],
      "metadata": {
        "colab": {
          "base_uri": "https://localhost:8080/"
        },
        "id": "6dWsieOExvgN",
        "outputId": "8193045d-c447-4bfc-81cd-1050b0163099"
      },
      "execution_count": 3,
      "outputs": [
        {
          "output_type": "stream",
          "name": "stdout",
          "text": [
            "5\n",
            "merhaba dünya\n"
          ]
        }
      ]
    },
    {
      "cell_type": "code",
      "source": [
        "# ınteger - tamsayı tanımlaması\n",
        "a = 10\n",
        "print(type(a))"
      ],
      "metadata": {
        "colab": {
          "base_uri": "https://localhost:8080/"
        },
        "id": "L5HQ-Z8ayU_N",
        "outputId": "ad325978-70f7-460a-dbb9-439b8bc5d3a9"
      },
      "execution_count": 5,
      "outputs": [
        {
          "output_type": "stream",
          "name": "stdout",
          "text": [
            "<class 'int'>\n"
          ]
        }
      ]
    },
    {
      "cell_type": "code",
      "source": [
        "# float -ondalıklı sayı tanımlaması\n",
        "b = 20.5\n",
        "print(type(b))"
      ],
      "metadata": {
        "colab": {
          "base_uri": "https://localhost:8080/"
        },
        "id": "Od3T2Vhxy4jW",
        "outputId": "dbb19127-3363-44fc-aa3c-a462df5fb14b"
      },
      "execution_count": 6,
      "outputs": [
        {
          "output_type": "stream",
          "name": "stdout",
          "text": [
            "<class 'float'>\n"
          ]
        }
      ]
    },
    {
      "cell_type": "code",
      "source": [
        "# int'ten float'çevrimin gerçekleştirilmesi\n",
        "x = 10\n",
        "y = float (x)\n",
        "print(y, type(y))"
      ],
      "metadata": {
        "colab": {
          "base_uri": "https://localhost:8080/"
        },
        "id": "82cyyTGXzM-1",
        "outputId": "65eb3cbb-f1f5-4590-d462-92f1c8063524"
      },
      "execution_count": 8,
      "outputs": [
        {
          "output_type": "stream",
          "name": "stdout",
          "text": [
            "10.0 <class 'float'>\n"
          ]
        }
      ]
    },
    {
      "cell_type": "code",
      "source": [
        "# float'tan int'e çevrimin gerçekleştirilmesi\n",
        "a = 12.34\n",
        "b=int(a)\n",
        "print(b, type(b))"
      ],
      "metadata": {
        "colab": {
          "base_uri": "https://localhost:8080/"
        },
        "id": "rj8en0g40Kx_",
        "outputId": "e457e72d-4628-4597-92cd-e9d742811f96"
      },
      "execution_count": 9,
      "outputs": [
        {
          "output_type": "stream",
          "name": "stdout",
          "text": [
            "12 <class 'int'>\n"
          ]
        }
      ]
    },
    {
      "cell_type": "code",
      "source": [
        "# string - metinsel içerik tanımlaması\n",
        "c = \"python programlama\"\n",
        "print (c)\n",
        "print(type(c))"
      ],
      "metadata": {
        "colab": {
          "base_uri": "https://localhost:8080/"
        },
        "id": "T6gPwTab62j2",
        "outputId": "e62beeb8-f1a0-460b-b9ac-c1662bb9a257"
      },
      "execution_count": 1,
      "outputs": [
        {
          "output_type": "stream",
          "name": "stdout",
          "text": [
            "python programlama\n",
            "<class 'str'>\n"
          ]
        }
      ]
    },
    {
      "cell_type": "code",
      "source": [
        "from re import T\n",
        "# boolean (true-false)-doğru / yanlış tanımlamsı\n",
        "d=True\n",
        "e = False\n",
        "print(d)\n",
        "print(type(e))"
      ],
      "metadata": {
        "colab": {
          "base_uri": "https://localhost:8080/"
        },
        "id": "Lxn4VQdH7vpm",
        "outputId": "551c1663-46a4-4612-a8d6-b8654b4ea85b"
      },
      "execution_count": 8,
      "outputs": [
        {
          "output_type": "stream",
          "name": "stdout",
          "text": [
            "True\n",
            "<class 'bool'>\n"
          ]
        }
      ]
    },
    {
      "cell_type": "code",
      "source": [
        "# list -liste tanımlaması\n",
        "my_list = [1,2,3,4,5]\n",
        "print ( type(my_list))\n",
        "print(my_list)"
      ],
      "metadata": {
        "colab": {
          "base_uri": "https://localhost:8080/"
        },
        "id": "PVHAf0Ge9Oqm",
        "outputId": "eb667c9a-69ad-4032-97c0-7a9789f211a1"
      },
      "execution_count": 11,
      "outputs": [
        {
          "output_type": "stream",
          "name": "stdout",
          "text": [
            "<class 'list'>\n",
            "[1, 2, 3, 4, 5]\n"
          ]
        }
      ]
    },
    {
      "cell_type": "code",
      "source": [
        "# tuple - demet tanımalaması\n",
        "my_tuple=(1,2,3,4,5)\n",
        "print(type(my_tuple))\n",
        "print(my_tuple)"
      ],
      "metadata": {
        "colab": {
          "base_uri": "https://localhost:8080/"
        },
        "id": "-TCNxZ8N9mCW",
        "outputId": "0105c23a-5596-43ee-97a0-b27688a2da74"
      },
      "execution_count": 12,
      "outputs": [
        {
          "output_type": "stream",
          "name": "stdout",
          "text": [
            "<class 'tuple'>\n",
            "(1, 2, 3, 4, 5)\n"
          ]
        }
      ]
    },
    {
      "cell_type": "code",
      "source": [
        "# dictionary - sözlük -> ögrencilerin notlarını tutan bir sözlük\n",
        "notlar = {\n",
        "     \"Ali\":85,\n",
        "     \"Veli\":90,\n",
        "     \"Ayşe\":78\n",
        " }\n",
        "\n",
        "notlar[\"Fatma\"] = 92 #yeni öğrenci ekleme\n",
        "notlar[\"Ali\"] = 88 #bir öğreninin notunu güncelleme\n",
        "print(notlar)"
      ],
      "metadata": {
        "colab": {
          "base_uri": "https://localhost:8080/"
        },
        "id": "UaYN5DBO-X_u",
        "outputId": "79544a2e-755d-4bac-9003-b0c7d3cadb46"
      },
      "execution_count": 13,
      "outputs": [
        {
          "output_type": "stream",
          "name": "stdout",
          "text": [
            "{'Ali': 88, 'Veli': 90, 'Ayşe': 78, 'Fatma': 92}\n"
          ]
        }
      ]
    },
    {
      "cell_type": "code",
      "source": [
        "print(notlar.keys())  #dict_keys(['isim', 'yas', 'meslek'])\n",
        "print(notlar.values()) #dict_values(['ahmet', '26','mühendis'])\n",
        "print(notlar.items()) #dict_items([('isim','ahmet'),('yas',26),('meslek','mühendis')])"
      ],
      "metadata": {
        "colab": {
          "base_uri": "https://localhost:8080/"
        },
        "id": "cK3v3PVEChWH",
        "outputId": "f8e05cca-8c44-46bb-b1a1-e7a9fd831d96"
      },
      "execution_count": 14,
      "outputs": [
        {
          "output_type": "stream",
          "name": "stdout",
          "text": [
            "dict_keys(['Ali', 'Veli', 'Ayşe', 'Fatma'])\n",
            "dict_values([88, 90, 78, 92])\n",
            "dict_items([('Ali', 88), ('Veli', 90), ('Ayşe', 78), ('Fatma', 92)])\n"
          ]
        }
      ]
    },
    {
      "cell_type": "code",
      "source": [
        "# set-küme örneği-> bir yazılım etkinliğine katılan kişilerin oluşturduğu kümeler\n",
        "kodyazanlar={\"ahmet,\" \"mehmet\",\"ayşe\"}\n",
        "kodyazmayanlar = {\"ayşe\",\"fatma\",\"veli\"}\n",
        "\n",
        "#kafasına göre takılan öğrenciler\n",
        "ortak = kodyazanlar.intersection(kodyazmayanlar)\n",
        "print(\"kafasına göre takılan öğrencilerin listesi:\",ortak)\n",
        "\n",
        "# etkinlikte kod yazmayan öğrencilerin tespiti\n",
        "kod_yazmayan=kodyazmayanlar.difference(kodyazanlar)\n",
        "print(\"kodçalışması yapmayan öğrenci listesi:\",kod_yazmayan)\n",
        "\n",
        "# yazılım eğitiminin öğrenci imza listesi\n",
        "imza_listesi= kodyazanlar.union(kodyazmayanlar)\n",
        "print(\"etkinlik katılımcıları:\",imza_listesi)\n"
      ],
      "metadata": {
        "colab": {
          "base_uri": "https://localhost:8080/"
        },
        "id": "IJBdgNtZFyV2",
        "outputId": "b83d09d3-0d58-4356-ce04-6eb81739d5df"
      },
      "execution_count": 15,
      "outputs": [
        {
          "output_type": "stream",
          "name": "stdout",
          "text": [
            "kafasına göre takılan öğrencilerin listesi: {'ayşe'}\n",
            "kodçalışması yapmayan öğrenci listesi: {'fatma', 'veli'}\n",
            "etkinlik katılımcıları: {'veli', 'fatma', 'ahmet,mehmet', 'ayşe'}\n"
          ]
        }
      ]
    },
    {
      "cell_type": "code",
      "source": [
        "giris = input(\"bir sayı girin:\")\n",
        "try:\n",
        "  num = float(giris)\n",
        "  print(f\"girilen sayı:{num},tipi:{type(num)},\",abs(num))\n",
        "except ValueError:\n",
        "  print(\"geçersiz veri girdiniz.\")"
      ],
      "metadata": {
        "colab": {
          "base_uri": "https://localhost:8080/"
        },
        "id": "edCLQBDFLFo1",
        "outputId": "4949205c-6e75-4caa-b66c-5501b3582f8b"
      },
      "execution_count": 5,
      "outputs": [
        {
          "output_type": "stream",
          "name": "stdout",
          "text": [
            "bir sayı girin:5\n",
            "girilen sayı:5.0,tipi:<class 'float'>, 5.0\n"
          ]
        }
      ]
    }
  ]
}